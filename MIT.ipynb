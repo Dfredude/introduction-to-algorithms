{
 "cells": [
  {
   "cell_type": "markdown",
   "metadata": {},
   "source": [
    "# Peak finder"
   ]
  },
  {
   "cell_type": "code",
   "execution_count": null,
   "metadata": {},
   "outputs": [
    {
     "name": "stdout",
     "output_type": "stream",
     "text": [
      "[65, 23, 93, 60, 4, 10, 67, 58]\n",
      "0\n"
     ]
    },
    {
     "ename": "",
     "evalue": "",
     "output_type": "error",
     "traceback": [
      "\u001b[1;31mThe Kernel crashed while executing code in the current cell or a previous cell. \n",
      "\u001b[1;31mPlease review the code in the cell(s) to identify a possible cause of the failure. \n",
      "\u001b[1;31mClick <a href='https://aka.ms/vscodeJupyterKernelCrash'>here</a> for more info. \n",
      "\u001b[1;31mView Jupyter <a href='command:jupyter.viewOutput'>log</a> for further details."
     ]
    }
   ],
   "source": [
    "# generate random numbers\n",
    "\n",
    "import random\n",
    "import math\n",
    "\n",
    "n = 8\n",
    "nums = [math.floor(random.random()*100)  for i in range(n)]\n",
    "# nums = [35, 53, 22, 51, 59, 65, 86, 91]\n",
    "\n",
    "def localPeakFind(nums):\n",
    "    # divide and conquer\\\n",
    "    # find the middle element\n",
    "    l, r = 0, len(nums)-1\n",
    "    mid = (l+r)//2\n",
    "    while mid > 0 and mid < len(nums)-1:\n",
    "        if nums[mid] < nums[mid-1]:\n",
    "            r = mid-1\n",
    "        elif nums[mid] < nums[mid+1]:\n",
    "            l = mid+1\n",
    "        else:\n",
    "            return mid\n",
    "        mid = (l+r)//2\n",
    "    return mid\n",
    "\n",
    "print(nums)\n",
    "print(localPeakFind(nums))"
   ]
  }
 ],
 "metadata": {
  "kernelspec": {
   "display_name": "Python 3",
   "language": "python",
   "name": "python3"
  },
  "language_info": {
   "codemirror_mode": {
    "name": "ipython",
    "version": 3
   },
   "file_extension": ".py",
   "mimetype": "text/x-python",
   "name": "python",
   "nbconvert_exporter": "python",
   "pygments_lexer": "ipython3",
   "version": "3.11.7"
  }
 },
 "nbformat": 4,
 "nbformat_minor": 2
}
