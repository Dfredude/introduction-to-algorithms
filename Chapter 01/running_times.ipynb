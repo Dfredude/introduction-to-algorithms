{
 "cells": [
  {
   "cell_type": "markdown",
   "metadata": {},
   "source": [
    "$f(n) = C_1n lg n $"
   ]
  },
  {
   "cell_type": "code",
   "execution_count": null,
   "metadata": {},
   "outputs": [
    {
     "name": "stdout",
     "output_type": "stream",
     "text": [
      "3155673600000000.0\n",
      "[62746, 2801417, 133378058, 2755147513, 71870856404, 797633893349.0, 68654697441062.0]\n"
     ]
    }
   ],
   "source": [
    "from math import log2, floor\n",
    "import functools\n",
    "\n",
    "def nlogn(t):\n",
    "    low = 1\n",
    "    high = t + 1\n",
    "    highest_n = (low + high) // 2\n",
    "    while low <= high:\n",
    "        n = (low + high) // 2\n",
    "        runtime = (n * log2(n))\n",
    "        if runtime < t:\n",
    "            highest_n = (low + high) // 2\n",
    "            low = n + 1\n",
    "        elif runtime > t: \n",
    "            high = n - 1\n",
    "        else: return n\n",
    "    return highest_n\n",
    "fnTs = 10**6\n",
    "factors = [1, 60, 60, 24, 30, 365/30, 100]\n",
    "ts = []\n",
    "def calcTimes(x, factor):\n",
    "    ts.append(x*factor)\n",
    "    return ts[-1]\n",
    "functools.reduce(calcTimes, factors, fnTs)\n",
    "ts[-1] = ts[-1] + ts[3]*24 # Accounting for leap years in a century\n",
    "print(ts[-1])\n",
    "ns = [nlogn(t) for t in ts]\n",
    "print(ns)"
   ]
  }
 ],
 "metadata": {
  "kernelspec": {
   "display_name": "Python 3",
   "language": "python",
   "name": "python3"
  },
  "language_info": {
   "codemirror_mode": {
    "name": "ipython",
    "version": 3
   },
   "file_extension": ".py",
   "mimetype": "text/x-python",
   "name": "python",
   "nbconvert_exporter": "python",
   "pygments_lexer": "ipython3",
   "version": "3.10.7"
  }
 },
 "nbformat": 4,
 "nbformat_minor": 2
}
